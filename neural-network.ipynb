{
 "cells": [
  {
   "cell_type": "code",
   "execution_count": 12,
   "id": "d7f2788b",
   "metadata": {},
   "outputs": [],
   "source": [
    "# necessary Dependencies:\n",
    "import torch \n",
    "import torch.nn as nn\n",
    "import torch.nn.functional as F"
   ]
  },
  {
   "cell_type": "code",
   "execution_count": null,
   "id": "119797aa",
   "metadata": {},
   "outputs": [],
   "source": [
    "# Crete a Model Class that inherits from nn.Module\n",
    "class Model(nn.Module):\n",
    "    \"\"\"\n",
    "    Machine Learning Model Skeleton: \n",
    "    - 1) Define the __init__ features\n",
    "        a) inputs, layers & neurons, and features\n",
    "    - 2) Define forward function (moves from each layer) -- beginning to end\n",
    "    \"\"\"\n",
    "\n",
    "    # Input Layer (4 features) --> Hidden Layer 1 --> Hidden Layer 2 --> Output Layer (3 classes)\n",
    "    def __init__(self, in_features=4, h1=8, h2=8, out_features=3):\n",
    "        super().__init__()\n",
    "        self.fc1 = nn.Linear(in_features, h1) # starting from in_features, moving to h1\n",
    "        self.fc2 = nn.Linear(h1, h2) # starting from h1, moving to h2\n",
    "        self.out = nn.Linear(h2, out_features) # from h2, ends with out_features\n",
    "\n",
    "    def forward(self, x):\n",
    "        x = F.relu(self.fc1(x)) # pushes into 1st layer\n",
    "        x = F.relu(self.fc2(x)) # pushes into 2nd layer\n",
    "        x = self.out(x) # pushes it into output\n",
    "\n",
    "        return x"
   ]
  },
  {
   "cell_type": "code",
   "execution_count": 18,
   "id": "ca312b82",
   "metadata": {},
   "outputs": [],
   "source": [
    "# Pick manual seed for randomization:\n",
    "torch.manual_seed(41)\n",
    "\n",
    "# Create Instance of Model: \n",
    "model = Model()"
   ]
  }
 ],
 "metadata": {
  "kernelspec": {
   "display_name": "meta",
   "language": "python",
   "name": "python3"
  },
  "language_info": {
   "codemirror_mode": {
    "name": "ipython",
    "version": 3
   },
   "file_extension": ".py",
   "mimetype": "text/x-python",
   "name": "python",
   "nbconvert_exporter": "python",
   "pygments_lexer": "ipython3",
   "version": "3.13.2"
  }
 },
 "nbformat": 4,
 "nbformat_minor": 5
}
